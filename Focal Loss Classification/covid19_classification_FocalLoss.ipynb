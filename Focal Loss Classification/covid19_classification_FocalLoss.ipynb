{
  "nbformat": 4,
  "nbformat_minor": 0,
  "metadata": {
    "colab": {
      "name": "focalLoss.ipynb",
      "provenance": [],
      "collapsed_sections": []
    },
    "kernelspec": {
      "name": "python3",
      "display_name": "Python 3"
    },
    "accelerator": "GPU"
  },
  "cells": [
    {
      "cell_type": "code",
      "metadata": {
        "id": "rvGzMYbFp27P",
        "colab_type": "code",
        "colab": {}
      },
      "source": [
        "import torch\n",
        "import torch.nn as nn\n",
        "import torch.optim as optim\n",
        "from torch.optim import lr_scheduler\n",
        "from torch.autograd import Variable\n",
        "import numpy as np\n",
        "import torchvision\n",
        "from torchvision import datasets, models, transforms\n",
        "import matplotlib.pyplot as plt\n",
        "import time\n",
        "import os\n",
        "import copy"
      ],
      "execution_count": 0,
      "outputs": []
    },
    {
      "cell_type": "code",
      "metadata": {
        "id": "zQBCuDYkyiaP",
        "colab_type": "code",
        "colab": {}
      },
      "source": [
        "import itertools   \n",
        "from tqdm import tqdm\n",
        "from sklearn.metrics import confusion_matrix\n",
        "import sklearn\n"
      ],
      "execution_count": 0,
      "outputs": []
    },
    {
      "cell_type": "code",
      "metadata": {
        "id": "1kJypqRAqK7c",
        "colab_type": "code",
        "colab": {
          "base_uri": "https://localhost:8080/",
          "height": 124
        },
        "outputId": "88999440-e829-40d5-d7a3-457b32b2ce5b"
      },
      "source": [
        "from google.colab import drive\n",
        "drive.mount(\"./gdrive\")\n"
      ],
      "execution_count": 3,
      "outputs": [
        {
          "output_type": "stream",
          "text": [
            "Go to this URL in a browser: https://accounts.google.com/o/oauth2/auth?client_id=947318989803-6bn6qk8qdgf4n4g3pfee6491hc0brc4i.apps.googleusercontent.com&redirect_uri=urn%3aietf%3awg%3aoauth%3a2.0%3aoob&response_type=code&scope=email%20https%3a%2f%2fwww.googleapis.com%2fauth%2fdocs.test%20https%3a%2f%2fwww.googleapis.com%2fauth%2fdrive%20https%3a%2f%2fwww.googleapis.com%2fauth%2fdrive.photos.readonly%20https%3a%2f%2fwww.googleapis.com%2fauth%2fpeopleapi.readonly\n",
            "\n",
            "Enter your authorization code:\n",
            "··········\n",
            "Mounted at ./gdrive\n"
          ],
          "name": "stdout"
        }
      ]
    },
    {
      "cell_type": "code",
      "metadata": {
        "id": "2YYaqPYUIC4k",
        "colab_type": "code",
        "colab": {}
      },
      "source": [
        "!unzip \"./gdrive/My Drive/A_02_5_data.zip\" \n",
        "\n"
      ],
      "execution_count": 0,
      "outputs": []
    },
    {
      "cell_type": "code",
      "metadata": {
        "id": "d__2pcyQqrCZ",
        "colab_type": "code",
        "colab": {}
      },
      "source": [
        "data_dir='/content/content/gdrive/My Drive/A_5_data/A_05_Part_02_Dataset'"
      ],
      "execution_count": 0,
      "outputs": []
    },
    {
      "cell_type": "code",
      "metadata": {
        "id": "Ax52LRVpugUe",
        "colab_type": "code",
        "colab": {}
      },
      "source": [
        "train_transforms = transforms.Compose([transforms.RandomRotation(30),\n",
        "                                       transforms.Resize(350),\n",
        "                                       transforms.RandomResizedCrop(224),\n",
        "                                       transforms.RandomHorizontalFlip(),\n",
        "                                       transforms.ToTensor(),\n",
        "                                       transforms.Normalize([0.485, 0.456, 0.406],\n",
        "                                                            [0.229, 0.224, 0.225])])\n",
        "\n",
        "\n",
        "val_transforms = transforms.Compose([transforms.Resize(350),\n",
        "                                      transforms.CenterCrop(224),\n",
        "                                      transforms.ToTensor(),\n",
        "                                      transforms.Normalize([0.485, 0.456, 0.406],\n",
        "                                                           [0.229, 0.224, 0.225])])\n",
        "\n"
      ],
      "execution_count": 0,
      "outputs": []
    },
    {
      "cell_type": "code",
      "metadata": {
        "id": "MvISmpUrK0sF",
        "colab_type": "code",
        "colab": {}
      },
      "source": [
        "test_transforms = transforms.Compose([transforms.Resize(350),\n",
        "                                      transforms.CenterCrop(224),\n",
        "                                      transforms.ToTensor(),\n",
        "                                      transforms.Normalize([0.485, 0.456, 0.406],\n",
        "                                                           [0.229, 0.224, 0.225])])\n"
      ],
      "execution_count": 0,
      "outputs": []
    },
    {
      "cell_type": "code",
      "metadata": {
        "id": "8PahghpwwMW1",
        "colab_type": "code",
        "outputId": "d32ae1f2-82fb-482a-a5aa-c93dd3f418b7",
        "colab": {
          "base_uri": "https://localhost:8080/",
          "height": 52
        }
      },
      "source": [
        "#pass transform here-in\n",
        "train_data = datasets.ImageFolder(data_dir + '/Train', transform=train_transforms)\n",
        "val_data = datasets.ImageFolder(data_dir + '/Validation', transform=val_transforms)\n",
        "\n",
        "#data loaders\n",
        "trainloader = torch.utils.data.DataLoader(train_data, batch_size=32, shuffle=True)\n",
        "valloader = torch.utils.data.DataLoader(val_data, batch_size=32, shuffle=True)\n",
        "\n",
        "print(\"Classes: \")\n",
        "class_names = train_data.classes\n",
        "print(class_names)"
      ],
      "execution_count": 8,
      "outputs": [
        {
          "output_type": "stream",
          "text": [
            "Classes: \n",
            "['covid-19', 'normal', 'pneumonia']\n"
          ],
          "name": "stdout"
        }
      ]
    },
    {
      "cell_type": "code",
      "metadata": {
        "id": "-PGI8s_qGTAs",
        "colab_type": "code",
        "colab": {
          "base_uri": "https://localhost:8080/",
          "height": 115
        },
        "outputId": "dbbe0b9e-7ee5-4adb-92fc-57925d9b3289"
      },
      "source": [
        "def imshow(inp, title=None):\n",
        "    inp = inp.numpy().transpose((1, 2, 0))\n",
        "    plt.axis('off')\n",
        "    plt.imshow(inp)\n",
        "    if title is not None:\n",
        "        plt.title(title)\n",
        "    plt.pause(0.001)\n",
        "\n",
        "def show_databatch(inputs, classes):\n",
        "    out = torchvision.utils.make_grid(inputs)\n",
        "    imshow(out, title=[class_names[x] for x in classes])\n",
        "\n",
        "# Get a batch of training data\n",
        "inputs, classes = next(iter(trainloader))\n",
        "show_databatch(inputs, classes)"
      ],
      "execution_count": 9,
      "outputs": [
        {
          "output_type": "stream",
          "text": [
            "Clipping input data to the valid range for imshow with RGB data ([0..1] for floats or [0..255] for integers).\n"
          ],
          "name": "stderr"
        },
        {
          "output_type": "display_data",
          "data": {
            "image/png": "[encoded data removed]",
            "text/plain": [
              "<Figure size 432x288 with 1 Axes>"
            ]
          },
          "metadata": {
            "tags": [],
            "needs_background": "light"
          }
        }
      ]
    },
    {
      "cell_type": "code",
      "metadata": {
        "id": "j5ScaqRlMJVY",
        "colab_type": "code",
        "colab": {}
      },
      "source": [
        "def getResnet(withSigmoid):\n",
        "  resnet=models.resnet34(pretrained=True)\n",
        "  num_features=resnet.fc.in_features\n",
        "  features = list(resnet.fc.children())[:-1] # Remove last layer\n",
        "  features.extend([nn.Linear(num_features, 360)])\n",
        "  features.extend([nn.ReLU(inplace=True)])\n",
        "  features.extend([nn.Linear(360, len(class_names))])\n",
        "  if(withSigmoid):\n",
        "    features.extend([nn.Sigmoid()])\n",
        "  # features.extend([nn.Softmax()])\n",
        "  resnet.fc=nn.Sequential(*features)\n",
        "  return resnet\n"
      ],
      "execution_count": 0,
      "outputs": []
    },
    {
      "cell_type": "code",
      "metadata": {
        "id": "3keCB6KQAV84",
        "colab_type": "code",
        "colab": {}
      },
      "source": [
        "def getResnet1FC():\n",
        "  resnet=models.resnet34(pretrained=True)\n",
        "  num_features=resnet.fc.in_features\n",
        "  features = list(resnet.fc.children())[:-1] # Remove last layer\n",
        "  features.extend([nn.Linear(num_features, len(class_names))]) \n",
        "  \n",
        "  resnet.fc=nn.Sequential(*features)\n",
        "  return resnet"
      ],
      "execution_count": 0,
      "outputs": []
    },
    {
      "cell_type": "code",
      "metadata": {
        "id": "xcGldtKH_1Qp",
        "colab_type": "code",
        "colab": {}
      },
      "source": [
        "def getVGG():\n",
        "  vgg16 = models.vgg16(pretrained=True)\n",
        "  num_features = vgg16.classifier[6].in_features\n",
        "  features = list(vgg16.classifier.children())[:-1]\n",
        "  features.extend([nn.Linear(num_features, 360)])\n",
        "  features.extend([nn.ReLU(inplace=True)])\n",
        "  features.extend([nn.Linear(360, len(class_names))])\n",
        "  vgg16.classifier = nn.Sequential(*features)\n",
        "  return vgg16\n",
        "\n",
        "\n"
      ],
      "execution_count": 0,
      "outputs": []
    },
    {
      "cell_type": "code",
      "metadata": {
        "id": "8_SHPCzOv0Vu",
        "colab_type": "code",
        "colab": {}
      },
      "source": [
        "class FocalLoss(nn.Module):\n",
        "    def __init__(self, alpha=0.25, gamma=2):\n",
        "        super(FocalLoss, self).__init__()\n",
        "        self.alpha = alpha\n",
        "        self.gamma = gamma        \n",
        "        \n",
        "\n",
        "    def forward(self, inputs, targets):\n",
        "        inputsStable=nn.functional.softmax(inputs,dim=-1)\n",
        "        # inputsStable=nn.functional.sigmoid(inputs)\n",
        "        eps=1e-7\n",
        "        inputsStable = inputsStable.clamp(eps, 1. - eps)        \n",
        "        loss = -1 * targets * torch.log(inputsStable) # cross entropy        \n",
        "        loss = loss * (1 - inputsStable) ** self.gamma # focal loss        \n",
        "        loss=loss*self.alpha        \n",
        "        return loss.sum()\n"
      ],
      "execution_count": 0,
      "outputs": []
    },
    {
      "cell_type": "code",
      "metadata": {
        "id": "A_EkPEQcBjMD",
        "colab_type": "code",
        "colab": {}
      },
      "source": [
        ""
      ],
      "execution_count": 0,
      "outputs": []
    },
    {
      "cell_type": "code",
      "metadata": {
        "id": "6rPOhDV4qATG",
        "colab_type": "code",
        "colab": {}
      },
      "source": [
        "\n",
        "def train(model,Epochs,Optimizer,Criterion,modelName):\n",
        "  device = torch.device(\"cuda:0\" if torch.cuda.is_available() else \"cpu\")\n",
        "  model.to(device)\n",
        "\n",
        "  model.train()\n",
        "  k=0\n",
        "\n",
        "  EpochlosslistTrain=[]\n",
        "  EpochlosslistVal=[]\n",
        "\n",
        "  EpochAccListTrain=[]\n",
        "  EpochAccListVal=[]\n",
        "      \n",
        "  for epoch in range(Epochs):  # loop over the dataset multiple times\n",
        "\n",
        "      running_loss = 0.0\n",
        "      pbar = tqdm(enumerate(trainloader))\n",
        "      i=0\n",
        "      \n",
        "      losslistTrain=[]\n",
        "      losslistVal=[]\n",
        "\n",
        "      AccListTrain=[]\n",
        "      AccListVal=[]\n",
        "\n",
        "\n",
        "      \n",
        "      \n",
        "      nb_digits = 3 \n",
        "      \n",
        "\n",
        "      for data,valData in itertools.zip_longest(trainloader,valloader):\n",
        "          \n",
        "          correct = 0\n",
        "          total = 0\n",
        "          # get the inputs\n",
        "          inputs, labels = data\n",
        "\n",
        "          label_onehot = torch.FloatTensor(len(labels), nb_digits)    \n",
        "\n",
        "          label_onehot.zero_()\n",
        "          label_onehot.scatter_(1, labels.data.unsqueeze(dim=1), 1)\n",
        "          label_onehot=label_onehot.to(device)\n",
        "\n",
        "          inputs, labels = inputs.to(device), labels.to(device)\n",
        "\n",
        "          if(valData is not None):\n",
        "            val_input,val_labels=valData\n",
        "\n",
        "            val_label_onehot=torch.FloatTensor(len(val_labels), nb_digits)\n",
        "            val_label_onehot.zero_()\n",
        "            val_label_onehot.scatter_(1,val_labels.data.unsqueeze(dim=1),1.0)\n",
        "            val_label_onehot=val_label_onehot.to(device)\n",
        "\n",
        "\n",
        "            val_input,val_labels = val_input.to(device), val_labels.to(device)\n",
        "            \n",
        "            val_output=model(val_input)\n",
        "            \n",
        "            val_loss = Criterion(val_output, val_label_onehot)          \n",
        "\n",
        "\n",
        "            # _, val_predicted = torch.max(val_output.data, 1)\n",
        "            # val_total = val_labels.size(0)\n",
        "            # val_correct = (val_predicted == val_labels).sum().item()\n",
        "            # val_acc=100*val_correct/val_total        \n",
        "            # AccListVal.append(val_acc)\n",
        "\n",
        "\n",
        "            losslistVal.append(val_loss.data.item())  \n",
        "\n",
        "          Optimizer.zero_grad()\n",
        "          outputs = model(inputs)               #----> forward pass\n",
        "          # print(outputs)\n",
        "          # print(label_onehot)\n",
        "\n",
        "          loss = Criterion(outputs, label_onehot)   #----> compute loss\n",
        "          loss.backward()                     #----> backward pass\n",
        "          Optimizer.step()                    #----> weights update\n",
        "\n",
        "          \n",
        "\n",
        "          # _, predicted = torch.max(outputs.data, 1)\n",
        "          # total += labels.size(0)\n",
        "          # correct += (predicted == labels).sum().item()\n",
        "          # acc=100 * correct / total\n",
        "          # AccListTrain.append(acc)\n",
        "\n",
        "\n",
        "\n",
        "          losslistTrain.append(loss.data.item())\n",
        "\n",
        "\n",
        "\n",
        "\n",
        "\n",
        "\n",
        "          # print statistics\n",
        "          running_loss += loss.item()\n",
        "          \n",
        "          pbar.set_description(\n",
        "              'Train Epoch: {} [{}/{} ({:.0f}%)]\\tLoss: {:.6f}'.format(\n",
        "                  epoch, i * len(inputs), len(trainloader.dataset),\n",
        "                  100. * i / len(trainloader),\n",
        "                  loss.data.item()))\n",
        "          i+=1\n",
        "      # break\n",
        "      lossVal=sum(losslistVal)/len(losslistVal)\n",
        "      # accVal=sum(AccListVal)/len(AccListVal)\n",
        "\n",
        "      losstrain=sum(losslistTrain)/len(losslistTrain)\n",
        "      # acctrain=sum(AccListTrain)/len(AccListTrain)\n",
        "\n",
        "      \n",
        "      EpochlosslistTrain.append(losstrain)\n",
        "      EpochlosslistVal.append(lossVal)\n",
        "\n",
        "      # EpochAccListTrain.append(acctrain)\n",
        "      # EpochAccListVal.append(accVal)\n",
        "        \n",
        "\n",
        "      fileName=\"/content/gdrive/My Drive/Models/\"+modelName\n",
        "      torch.save(model.state_dict(), fileName)\n",
        "  return EpochlosslistTrain,EpochlosslistVal\n",
        "\n",
        "\n",
        "  print('Finished Training')       \n"
      ],
      "execution_count": 0,
      "outputs": []
    },
    {
      "cell_type": "code",
      "metadata": {
        "id": "QSY5UwPiOPSM",
        "colab_type": "code",
        "colab": {}
      },
      "source": [
        "def DrawCurves(countList,EpochList,y_AxisLabel,title):\n",
        "  plt.plot(countList, EpochList)\n",
        "  # Label the axes\n",
        "  plt.xlabel('epoch')\n",
        "  plt.ylabel(y_AxisLabel)\n",
        "  #label the figure\n",
        "  plt.title(title)\n",
        "  plt.show()"
      ],
      "execution_count": 0,
      "outputs": []
    },
    {
      "cell_type": "code",
      "metadata": {
        "id": "mVTFJGNqQUTZ",
        "colab_type": "code",
        "colab": {}
      },
      "source": [
        "def GetConfMatrix(model):\n",
        "  device = torch.device(\"cuda:0\" if torch.cuda.is_available() else \"cpu\")\n",
        "\n",
        "  correct = 0\n",
        "  total = 0\n",
        "  trainPred=[]\n",
        "  trainLabel=[]\n",
        "  validPred=[]\n",
        "  validLabel=[]\n",
        "  \n",
        "  with torch.no_grad():\n",
        "      for traindata,valdata in itertools.zip_longest(trainloader,valloader):\n",
        "          \n",
        "\n",
        "          #train Part\n",
        "          imagesTrain, labelsTrain = traindata\n",
        "          imagesTrain, labelsTrain = imagesTrain.to(device), labelsTrain.to(device)\n",
        "          outputsTrain = model(imagesTrain)\n",
        "          # print(outputsTrain)\n",
        "          _, predictedTrain = torch.max(outputsTrain.data, 1)\n",
        "          # print(\"------\")\n",
        "          # print(predictedTrain)\n",
        "          for t, p in zip(labelsTrain.view(-1), predictedTrain.view(-1)):\n",
        "            trainLabel.append(t.data.item())\n",
        "            trainPred.append(p.data.item())\n",
        "            \n",
        "          \n",
        "            #valid Part\n",
        "          if(valdata is not None):\n",
        "            imagesval, labelsval = valdata\n",
        "            imagesval, labelsval = imagesval.to(device), labelsval.to(device)\n",
        "            outputsval = model(imagesval)\n",
        "            _, predictedval = torch.max(outputsval.data, 1)\n",
        "            total += labelsval.size(0)\n",
        "            correct += (predictedval == labelsval).sum().item()\n",
        "            for t, p in zip(labelsval.view(-1), predictedval.view(-1)):\n",
        "              validPred.append(p.data.item())\n",
        "              validLabel.append(t.data.item())           \n",
        "            \n",
        "\n",
        "  print('Accuracy of the network on the 10000 test images: %d %%' % (100 * correct / total))\n",
        "  train_conf=confusion_matrix(trainLabel,trainPred)\n",
        "  valid_conf=confusion_matrix(validLabel,validPred)\n",
        "  f1ScoreValid=sklearn.metrics.f1_score(validLabel,validPred,average=None)\n",
        "  f1ScoreTrain=sklearn.metrics.f1_score(trainLabel,trainPred,average=None)\n",
        "  return train_conf,valid_conf,f1ScoreValid,f1ScoreTrain\n",
        "\n",
        "  "
      ],
      "execution_count": 0,
      "outputs": []
    },
    {
      "cell_type": "markdown",
      "metadata": {
        "id": "vpeRFSZ-MhdO",
        "colab_type": "text"
      },
      "source": [
        "## Resnet with 2 fc Layer"
      ]
    },
    {
      "cell_type": "code",
      "metadata": {
        "id": "9IikFaREVCzU",
        "colab_type": "code",
        "colab": {}
      },
      "source": [
        "# criter = nn.BCEWithLogitsLoss()\n",
        "res=getResnet(False)\n",
        "criter =FocalLoss()\n",
        "\n",
        "optimis = optim.SGD(res.parameters(), lr=0.001, momentum=0.9)\n",
        "\n",
        "Epochs=5\n",
        "modName=\"Resnet_2_Focal.pth\"\n",
        "\n",
        "EpochlosslistTrain,EpochlosslistVal=train(res,Epochs,optimis,criter,modName)\n"
      ],
      "execution_count": 0,
      "outputs": []
    },
    {
      "cell_type": "code",
      "metadata": {
        "id": "Otkmj2oPZuH-",
        "colab_type": "code",
        "colab": {
          "base_uri": "https://localhost:8080/",
          "height": 35
        },
        "outputId": "40e20df2-668d-4e47-fb5e-608105d56d86"
      },
      "source": [
        "train_conf,valid_conf,f1ScoreValid,f1ScoreTrain=GetConfMatrix(res)"
      ],
      "execution_count": 62,
      "outputs": [
        {
          "output_type": "stream",
          "text": [
            "Accuracy of the network on the 10000 test images: 91 %\n"
          ],
          "name": "stdout"
        }
      ]
    },
    {
      "cell_type": "code",
      "metadata": {
        "id": "VqKf06bCg9qd",
        "colab_type": "code",
        "colab": {
          "base_uri": "https://localhost:8080/",
          "height": 156
        },
        "outputId": "90820dcd-c567-4867-b5e6-8093c286a3a5"
      },
      "source": [
        "print(train_conf)\n",
        "print(valid_conf)\n",
        "print(f1ScoreValid)\n",
        "print(f1ScoreTrain)\n"
      ],
      "execution_count": 63,
      "outputs": [
        {
          "output_type": "stream",
          "text": [
            "[[ 132   38   30]\n",
            " [   8 3856  136]\n",
            " [  44  379 1577]]\n",
            "[[ 22   5   1]\n",
            " [  2 390   8]\n",
            " [ 13  23 164]]\n",
            "[0.67692308 0.95354523 0.87935657]\n",
            "[0.6875     0.93218905 0.84263959]\n"
          ],
          "name": "stdout"
        }
      ]
    },
    {
      "cell_type": "code",
      "metadata": {
        "id": "uT5wcQmwtUF1",
        "colab_type": "code",
        "colab": {}
      },
      "source": [
        "countList=[]\n",
        "for x in range(Epochs):\n",
        "  countList.append(x)"
      ],
      "execution_count": 0,
      "outputs": []
    },
    {
      "cell_type": "code",
      "metadata": {
        "id": "F7aKKP6fthA4",
        "colab_type": "code",
        "colab": {
          "base_uri": "https://localhost:8080/",
          "height": 295
        },
        "outputId": "68fa4571-8af5-48cb-bc08-5e17976fd324"
      },
      "source": [
        "DrawCurves(countList,EpochlosslistTrain,\"Train Loss\",\"Train Loss resnet focalLoss\")"
      ],
      "execution_count": 68,
      "outputs": [
        {
          "output_type": "display_data",
          "data": {
            "image/png": "[encoded data removed]",
            "text/plain": [
              "<Figure size 432x288 with 1 Axes>"
            ]
          },
          "metadata": {
            "tags": [],
            "needs_background": "light"
          }
        }
      ]
    },
    {
      "cell_type": "code",
      "metadata": {
        "id": "MxhD_0ZcuEt9",
        "colab_type": "code",
        "colab": {
          "base_uri": "https://localhost:8080/",
          "height": 295
        },
        "outputId": "cd8fcaf5-c153-4d79-b64f-de7538774ed5"
      },
      "source": [
        "DrawCurves(countList,EpochlosslistVal,\"Validation Loss\",\"Validation Loss resnet focalLoss\")"
      ],
      "execution_count": 69,
      "outputs": [
        {
          "output_type": "display_data",
          "data": {
            "image/png": "[encoded data removed]",
            "text/plain": [
              "<Figure size 432x288 with 1 Axes>"
            ]
          },
          "metadata": {
            "tags": [],
            "needs_background": "light"
          }
        }
      ]
    },
    {
      "cell_type": "markdown",
      "metadata": {
        "id": "_BICyLkmMqxt",
        "colab_type": "text"
      },
      "source": [
        "## ResNet with BCE loss"
      ]
    },
    {
      "cell_type": "code",
      "metadata": {
        "id": "NgPEETAwuOXs",
        "colab_type": "code",
        "colab": {}
      },
      "source": [
        "criter = nn.BCEWithLogitsLoss()\n",
        "res=getResnet(False)\n",
        "\n",
        "optimis = optim.SGD(res.parameters(), lr=0.001, momentum=0.9)\n",
        "\n",
        "Epochs=5\n",
        "modName=\"Resnet_2_BCE.pth\"\n",
        "\n",
        "EpochlosslistTrain,EpochlosslistVal=train(res,Epochs,optimis,criter,modName)"
      ],
      "execution_count": 0,
      "outputs": []
    },
    {
      "cell_type": "code",
      "metadata": {
        "id": "PhH-BliJuOrX",
        "colab_type": "code",
        "colab": {}
      },
      "source": [
        "train_conf,valid_conf,f1ScoreValid,f1ScoreTrain=GetConfMatrix(res)"
      ],
      "execution_count": 0,
      "outputs": []
    },
    {
      "cell_type": "code",
      "metadata": {
        "id": "EnAvr59lunD5",
        "colab_type": "code",
        "colab": {
          "base_uri": "https://localhost:8080/",
          "height": 156
        },
        "outputId": "caa7f638-f94b-432b-906a-548b4dde6f48"
      },
      "source": [
        "print(train_conf)\n",
        "print(valid_conf)\n",
        "print(f1ScoreValid)\n",
        "print(f1ScoreTrain)\n"
      ],
      "execution_count": 72,
      "outputs": [
        {
          "output_type": "stream",
          "text": [
            "[[   0   61  139]\n",
            " [   0 3834  166]\n",
            " [   0  395 1605]]\n",
            "[[  0  18  10]\n",
            " [  0 380  20]\n",
            " [  0  24 176]]\n",
            "[0.         0.92457421 0.86699507]\n",
            "[0.         0.92496984 0.82097187]\n"
          ],
          "name": "stdout"
        }
      ]
    },
    {
      "cell_type": "code",
      "metadata": {
        "id": "yTSDIGQiunMh",
        "colab_type": "code",
        "colab": {
          "base_uri": "https://localhost:8080/",
          "height": 295
        },
        "outputId": "74d02e8a-85ec-49c3-94d6-f132d378dc28"
      },
      "source": [
        "DrawCurves(countList,EpochlosslistTrain,\"Train Loss\",\"Train Loss resnet BCELoss\")"
      ],
      "execution_count": 75,
      "outputs": [
        {
          "output_type": "display_data",
          "data": {
            "image/png": "[encoded data removed]",
            "text/plain": [
              "<Figure size 432x288 with 1 Axes>"
            ]
          },
          "metadata": {
            "tags": [],
            "needs_background": "light"
          }
        }
      ]
    },
    {
      "cell_type": "code",
      "metadata": {
        "id": "Nz7X07p5unXX",
        "colab_type": "code",
        "colab": {
          "base_uri": "https://localhost:8080/",
          "height": 295
        },
        "outputId": "3f650313-4cb9-43f3-8a92-7f78156c0739"
      },
      "source": [
        "DrawCurves(countList,EpochlosslistVal,\"Validation Loss\",\"Validation Loss resnet BCELoss\")"
      ],
      "execution_count": 78,
      "outputs": [
        {
          "output_type": "display_data",
          "data": {
            "image/png": "[encoded data removed]",
            "text/plain": [
              "<Figure size 432x288 with 1 Axes>"
            ]
          },
          "metadata": {
            "tags": [],
            "needs_background": "light"
          }
        }
      ]
    },
    {
      "cell_type": "markdown",
      "metadata": {
        "id": "gwaHXf8dM0HX",
        "colab_type": "text"
      },
      "source": [
        "## VGG16 with focal loss"
      ]
    },
    {
      "cell_type": "code",
      "metadata": {
        "id": "qy_zpnFhg9ow",
        "colab_type": "code",
        "colab": {}
      },
      "source": [
        "vgg16=getVGG()\n",
        "criter =FocalLoss()\n",
        "optimis = optim.SGD(vgg16.parameters(), lr=0.001, momentum=0.9)\n",
        "\n",
        "Epochs=5\n",
        "modName=\"Vgg_2_focal.pth\"\n",
        "\n",
        "EpochlosslistTrain,EpochlosslistVal=train(vgg16,Epochs,optimis,criter,modName)"
      ],
      "execution_count": 0,
      "outputs": []
    },
    {
      "cell_type": "code",
      "metadata": {
        "id": "K2FcLKf20E4h",
        "colab_type": "code",
        "colab": {
          "base_uri": "https://localhost:8080/",
          "height": 35
        },
        "outputId": "ce8f946e-2176-4ddc-f45e-faef002b8a9d"
      },
      "source": [
        "train_conf,valid_conf,f1ScoreValid,f1ScoreTrain=GetConfMatrix(vgg16)"
      ],
      "execution_count": 83,
      "outputs": [
        {
          "output_type": "stream",
          "text": [
            "Accuracy of the network on the 10000 test images: 89 %\n"
          ],
          "name": "stdout"
        }
      ]
    },
    {
      "cell_type": "code",
      "metadata": {
        "id": "K1xc9IdQn7-b",
        "colab_type": "code",
        "colab": {
          "base_uri": "https://localhost:8080/",
          "height": 208
        },
        "outputId": "8afc9c7e-a41b-4c4f-f46f-c369a3cd8936"
      },
      "source": [
        "print(train_conf)\n",
        "print()\n",
        "print(valid_conf)\n",
        "print()\n",
        "print(f1ScoreValid)\n",
        "print()\n",
        "print(f1ScoreTrain)"
      ],
      "execution_count": 84,
      "outputs": [
        {
          "output_type": "stream",
          "text": [
            "[[  44   85   71]\n",
            " [   0 3962   38]\n",
            " [   5  690 1305]]\n",
            "\n",
            "[[ 14  10   4]\n",
            " [  1 396   3]\n",
            " [  3  45 152]]\n",
            "\n",
            "[0.60869565 0.9306698  0.84679666]\n",
            "\n",
            "[0.35341365 0.90694746 0.76449912]\n"
          ],
          "name": "stdout"
        }
      ]
    },
    {
      "cell_type": "code",
      "metadata": {
        "id": "PqD9YskB4oTR",
        "colab_type": "code",
        "colab": {
          "base_uri": "https://localhost:8080/",
          "height": 573
        },
        "outputId": "09bf6ff1-9a39-4243-ad81-686631831708"
      },
      "source": [
        "DrawCurves(countList,EpochlosslistTrain,\"Train Loss\",\"Train Loss vgg Focal Loss\")\n",
        "DrawCurves(countList,EpochlosslistVal,\"Validation Loss\",\"Validation Loss vgg Focal Loss\")"
      ],
      "execution_count": 86,
      "outputs": [
        {
          "output_type": "display_data",
          "data": {
            "image/png": "[encoded data removed]",
            "text/plain": [
              "<Figure size 432x288 with 1 Axes>"
            ]
          },
          "metadata": {
            "tags": [],
            "needs_background": "light"
          }
        },
        {
          "output_type": "display_data",
          "data": {
            "image/png": "[encoded data removed]",
            "text/plain": [
              "<Figure size 432x288 with 1 Axes>"
            ]
          },
          "metadata": {
            "tags": [],
            "needs_background": "light"
          }
        }
      ]
    },
    {
      "cell_type": "markdown",
      "metadata": {
        "id": "2PCcZBRYNAyn",
        "colab_type": "text"
      },
      "source": [
        "## vgg16 with BCE loss"
      ]
    },
    {
      "cell_type": "code",
      "metadata": {
        "id": "1AnJKPYI4xCn",
        "colab_type": "code",
        "colab": {}
      },
      "source": [
        "vgg16=getVGG()\n",
        "criter =nn.BCEWithLogitsLoss()\n",
        "optimis = optim.SGD(vgg16.parameters(), lr=0.001, momentum=0.9)\n",
        "\n",
        "Epochs=5\n",
        "modName=\"Vgg_2_BCE.pth\"\n",
        "\n",
        "EpochlosslistTrain,EpochlosslistVal=train(vgg16,Epochs,optimis,criter,modName)"
      ],
      "execution_count": 0,
      "outputs": []
    },
    {
      "cell_type": "code",
      "metadata": {
        "id": "j9XRIj1O4xHR",
        "colab_type": "code",
        "colab": {}
      },
      "source": [
        ""
      ],
      "execution_count": 0,
      "outputs": []
    },
    {
      "cell_type": "code",
      "metadata": {
        "id": "2K5FKa2Z4xAY",
        "colab_type": "code",
        "colab": {
          "base_uri": "https://localhost:8080/",
          "height": 35
        },
        "outputId": "ca0a2b5c-696c-4b85-c32c-11d698d4c2f0"
      },
      "source": [
        "train_conf,valid_conf,f1ScoreValid,f1ScoreTrain=GetConfMatrix(vgg16)"
      ],
      "execution_count": 88,
      "outputs": [
        {
          "output_type": "stream",
          "text": [
            "Accuracy of the network on the 10000 test images: 89 %\n"
          ],
          "name": "stdout"
        }
      ]
    },
    {
      "cell_type": "code",
      "metadata": {
        "id": "lG3TsBWd6Kbe",
        "colab_type": "code",
        "colab": {
          "base_uri": "https://localhost:8080/",
          "height": 208
        },
        "outputId": "8b80f890-3baa-4571-b1ec-7ede0358dd4a"
      },
      "source": [
        "print(train_conf)\n",
        "print()\n",
        "print(valid_conf)\n",
        "print()\n",
        "print(f1ScoreValid)\n",
        "print()\n",
        "print(f1ScoreTrain)"
      ],
      "execution_count": 89,
      "outputs": [
        {
          "output_type": "stream",
          "text": [
            "[[  63   60   77]\n",
            " [   1 3900   99]\n",
            " [  14  395 1591]]\n",
            "\n",
            "[[  9  16   3]\n",
            " [  6 390   4]\n",
            " [ 15  23 162]]\n",
            "\n",
            "[0.31034483 0.94089264 0.87804878]\n",
            "\n",
            "[0.45323741 0.93357271 0.84470401]\n"
          ],
          "name": "stdout"
        }
      ]
    },
    {
      "cell_type": "code",
      "metadata": {
        "id": "YW52meMr8_XB",
        "colab_type": "code",
        "colab": {
          "base_uri": "https://localhost:8080/",
          "height": 573
        },
        "outputId": "95c017bb-0d3e-414a-e4c6-6b6ec28743f6"
      },
      "source": [
        "DrawCurves(countList,EpochlosslistTrain,\"Train Loss\",\"Train Loss vgg BCE Loss\")\n",
        "DrawCurves(countList,EpochlosslistVal,\"Validation Loss\",\"Validation Loss BCE Loss\")"
      ],
      "execution_count": 90,
      "outputs": [
        {
          "output_type": "display_data",
          "data": {
            "image/png": "[encoded data removed]",
            "text/plain": [
              "<Figure size 432x288 with 1 Axes>"
            ]
          },
          "metadata": {
            "tags": [],
            "needs_background": "light"
          }
        },
        {
          "output_type": "display_data",
          "data": {
            "image/png": "[encoded data removed]",
            "text/plain": [
              "<Figure size 432x288 with 1 Axes>"
            ]
          },
          "metadata": {
            "tags": [],
            "needs_background": "light"
          }
        }
      ]
    },
    {
      "cell_type": "markdown",
      "metadata": {
        "id": "J_BZH2l4NHhu",
        "colab_type": "text"
      },
      "source": [
        "## Resnet with 1FC layer"
      ]
    },
    {
      "cell_type": "code",
      "metadata": {
        "id": "eKXwSbOs8_fj",
        "colab_type": "code",
        "colab": {}
      },
      "source": [
        "\n",
        "res=getResnet1FC()\n",
        "criter =FocalLoss()\n",
        "\n",
        "optimis = optim.SGD(res.parameters(), lr=0.001, momentum=0.9)\n",
        "\n",
        "Epochs=5\n",
        "modName=\"Resnet_2_1FC_Focal.pth\"\n",
        "\n",
        "EpochlosslistTrain,EpochlosslistVal=train(res,Epochs,optimis,criter,modName)\n"
      ],
      "execution_count": 0,
      "outputs": []
    },
    {
      "cell_type": "code",
      "metadata": {
        "id": "_qZ5qGG7A4ct",
        "colab_type": "code",
        "colab": {
          "base_uri": "https://localhost:8080/",
          "height": 35
        },
        "outputId": "0a3113d0-f1f2-41da-ca17-db269f43017c"
      },
      "source": [
        "train_conf,valid_conf,f1ScoreValid,f1ScoreTrain=GetConfMatrix(res)"
      ],
      "execution_count": 19,
      "outputs": [
        {
          "output_type": "stream",
          "text": [
            "Accuracy of the network on the 10000 test images: 83 %\n"
          ],
          "name": "stdout"
        }
      ]
    },
    {
      "cell_type": "code",
      "metadata": {
        "id": "VymVMlQwA4gz",
        "colab_type": "code",
        "colab": {
          "base_uri": "https://localhost:8080/",
          "height": 208
        },
        "outputId": "8e9f17f3-1b47-46f3-c228-fa2b9e864d88"
      },
      "source": [
        "print(train_conf)\n",
        "print()\n",
        "print(valid_conf)\n",
        "print()\n",
        "print(f1ScoreValid)\n",
        "print()\n",
        "print(f1ScoreTrain)"
      ],
      "execution_count": 19,
      "outputs": [
        {
          "output_type": "stream",
          "text": [
            "[[ 114   37   49]\n",
            " [   8 3839  153]\n",
            " [  25  385 1590]]\n",
            "\n",
            "[[ 16   8   4]\n",
            " [  3 391   6]\n",
            " [  5  29 166]]\n",
            "\n",
            "[0.61538462 0.94444444 0.88297872]\n",
            "\n",
            "[0.65706052 0.92942743 0.83860759]\n"
          ],
          "name": "stdout"
        }
      ]
    },
    {
      "cell_type": "markdown",
      "metadata": {
        "id": "K4WDb4-GNMSG",
        "colab_type": "text"
      },
      "source": [
        "## resnet with 2 fc layer and changed lr"
      ]
    },
    {
      "cell_type": "code",
      "metadata": {
        "id": "QIa4NptJBrxG",
        "colab_type": "code",
        "colab": {}
      },
      "source": [
        "res=getResnet(False)\n",
        "criter =FocalLoss()\n",
        "\n",
        "optimis = optim.SGD(res.parameters(), lr=0.01, momentum=0.9)\n",
        "\n",
        "Epochs=5\n",
        "modName=\"Resnet_2_Focal.pth\"\n",
        "\n",
        "EpochlosslistTrain,EpochlosslistVal=train(res,Epochs,optimis,criter,modName)\n"
      ],
      "execution_count": 0,
      "outputs": []
    },
    {
      "cell_type": "code",
      "metadata": {
        "id": "0SNHf7NI5rRL",
        "colab_type": "code",
        "colab": {
          "base_uri": "https://localhost:8080/",
          "height": 35
        },
        "outputId": "db0a2675-7c6b-4034-9463-45930afc372c"
      },
      "source": [
        "train_conf,valid_conf,f1ScoreValid,f1ScoreTrain=GetConfMatrix(res)"
      ],
      "execution_count": 65,
      "outputs": [
        {
          "output_type": "stream",
          "text": [
            "Accuracy of the network on the 10000 test images: 87 %\n"
          ],
          "name": "stdout"
        }
      ]
    },
    {
      "cell_type": "code",
      "metadata": {
        "id": "E9vHAsdj5ye9",
        "colab_type": "code",
        "colab": {
          "base_uri": "https://localhost:8080/",
          "height": 208
        },
        "outputId": "c9a836fa-82d2-4b66-a98b-d57b14b21c92"
      },
      "source": [
        "print(train_conf)\n",
        "print()\n",
        "print(valid_conf)\n",
        "print()\n",
        "print(f1ScoreValid)\n",
        "print()\n",
        "print(f1ScoreTrain)"
      ],
      "execution_count": 67,
      "outputs": [
        {
          "output_type": "stream",
          "text": [
            "[[   0   64  136]\n",
            " [   0 3673  327]\n",
            " [   0  423 1577]]\n",
            "\n",
            "[[  0   9  19]\n",
            " [  0 379  21]\n",
            " [  0  28 172]]\n",
            "\n",
            "[0.         0.92892157 0.83495146]\n",
            "\n",
            "[0.         0.9002451  0.78069307]\n"
          ],
          "name": "stdout"
        }
      ]
    },
    {
      "cell_type": "code",
      "metadata": {
        "id": "OV1Hchq-_Zgx",
        "colab_type": "code",
        "colab": {}
      },
      "source": [
        "criter = FocalLoss()\n",
        "res=getResnet(False)\n",
        "\n",
        "optimis = optim.SGD(res.parameters(), lr=0.001, momentum=0.9)\n",
        "\n",
        "Epochs=5\n",
        "modName=\"Resnet_2_Focal.pth\"\n",
        "\n",
        "EpochlosslistTrain,EpochlosslistVal=train(res,Epochs,optimis,criter,modName)"
      ],
      "execution_count": 0,
      "outputs": []
    },
    {
      "cell_type": "code",
      "metadata": {
        "id": "-of3UZ0U_q35",
        "colab_type": "code",
        "colab": {
          "base_uri": "https://localhost:8080/",
          "height": 35
        },
        "outputId": "84400fc4-7a7d-456c-9033-73eaf1627283"
      },
      "source": [
        "train_conf,valid_conf,f1ScoreValid,f1ScoreTrain=GetConfMatrix(res)"
      ],
      "execution_count": 69,
      "outputs": [
        {
          "output_type": "stream",
          "text": [
            "Accuracy of the network on the 10000 test images: 92 %\n"
          ],
          "name": "stdout"
        }
      ]
    },
    {
      "cell_type": "code",
      "metadata": {
        "id": "R7k9u8jP_s1s",
        "colab_type": "code",
        "colab": {
          "base_uri": "https://localhost:8080/",
          "height": 208
        },
        "outputId": "4ab0bbed-d091-4415-fa2d-e476a7f2f94a"
      },
      "source": [
        "print(train_conf)\n",
        "print()\n",
        "print(valid_conf)\n",
        "print()\n",
        "print(f1ScoreValid)\n",
        "print()\n",
        "print(f1ScoreTrain)"
      ],
      "execution_count": 70,
      "outputs": [
        {
          "output_type": "stream",
          "text": [
            "[[ 110   35   55]\n",
            " [   8 3845  147]\n",
            " [  22  358 1620]]\n",
            "\n",
            "[[ 17   6   5]\n",
            " [  1 385  14]\n",
            " [  3  21 176]]\n",
            "\n",
            "[0.69387755 0.94827586 0.89113924]\n",
            "\n",
            "[0.64705882 0.933479   0.8477237 ]\n"
          ],
          "name": "stdout"
        }
      ]
    },
    {
      "cell_type": "code",
      "metadata": {
        "id": "7jJRCq3RgC3b",
        "colab_type": "code",
        "colab": {}
      },
      "source": [
        "class ImageFolderWithPaths(datasets.ImageFolder):    \n",
        "    def __getitem__(self, index):\n",
        "        original_tuple = super(ImageFolderWithPaths, self).__getitem__(index)\n",
        "        path = self.imgs[index][0]\n",
        "        tuple_with_path = (original_tuple + (path,))\n",
        "        return tuple_with_path\n",
        "\n",
        "\n",
        "data_dir2=\"/content/content/gdrive/My Drive/A_5_data/A_05_Part_02_Dataset/Test\"\n",
        "dataset = ImageFolderWithPaths(root=data_dir2, transform=test_transforms)\n",
        "testLoader = torch.utils.data.DataLoader(dataset=dataset,batch_size=1, shuffle=False)\n",
        "\n"
      ],
      "execution_count": 0,
      "outputs": []
    },
    {
      "cell_type": "code",
      "metadata": {
        "id": "tNUA-XKMgHBB",
        "colab_type": "code",
        "colab": {}
      },
      "source": [
        "import ntpath\n",
        "import numpy as np\n",
        "def getResult(model):\n",
        "  result={}\n",
        "  device = torch.device(\"cuda:0\" if torch.cuda.is_available() else \"cpu\")\n",
        "  for  data in testLoader:\n",
        "    image,label,path = data\n",
        "    \n",
        "    fileName=ntpath.basename(path[0])    \n",
        "    \n",
        "    image,label = image.to(device), label.to(device)\n",
        "    output = model(image)\n",
        "    print(\"--------\")\n",
        "    \n",
        "    out= torch.sigmoid(output)\n",
        "    out2=nn.functional.softmax(output,dim=-1)\n",
        "    print(out)\n",
        "\n",
        "    \n",
        "    arr=np.zeros(3)\n",
        "    temp=[]\n",
        "    ind=0\n",
        "    for _,value in zip(out.view(-1),out.view(-1)):\n",
        "      num=value.data.item()\n",
        "      if(num>0.5):\n",
        "        arr[ind]=1\n",
        "      ind+=1\n",
        "\n",
        "    \n",
        "    result[fileName]=arr\n",
        "\n",
        "\n",
        "  return result\n",
        "\n",
        "\n",
        "\n",
        "    \n",
        "      \n",
        "  \n",
        "  \n"
      ],
      "execution_count": 0,
      "outputs": []
    },
    {
      "cell_type": "code",
      "metadata": {
        "id": "XIH5MXlkNW1b",
        "colab_type": "code",
        "colab": {}
      },
      "source": [
        "vggres=getResult(vgg16)"
      ],
      "execution_count": 0,
      "outputs": []
    },
    {
      "cell_type": "code",
      "metadata": {
        "id": "0pBbp-58ezpC",
        "colab_type": "code",
        "colab": {}
      },
      "source": [
        "result=getResult(res)"
      ],
      "execution_count": 0,
      "outputs": []
    },
    {
      "cell_type": "code",
      "metadata": {
        "id": "ESkwW89fEmf-",
        "colab_type": "code",
        "colab": {}
      },
      "source": [
        "final=[]\n",
        "for k in vggres.keys():\n",
        "  temp=[]\n",
        "  print(vggres[k])\n",
        "  arr=np.zeros(3)\n",
        "  arr[0]=vggres[k][0]\n",
        "  arr[1]=vggres[k][2]\n",
        "  arr[2]=vggres[k][1]\n",
        "  temp.append(k)\n",
        "\n",
        "  temp.append(str(int(arr[0])))\n",
        "  temp.append(str(int(arr[1])))\n",
        "  temp.append(str(int(arr[2])))\n",
        "\n",
        "  \n",
        "  final.append(temp)\n",
        "  "
      ],
      "execution_count": 0,
      "outputs": []
    },
    {
      "cell_type": "code",
      "metadata": {
        "id": "8iAA7V9v_jXe",
        "colab_type": "code",
        "colab": {}
      },
      "source": [
        "import csv\n"
      ],
      "execution_count": 0,
      "outputs": []
    },
    {
      "cell_type": "code",
      "metadata": {
        "id": "ygQmCOQm3q9L",
        "colab_type": "code",
        "colab": {}
      },
      "source": [
        "fileName='/content/gdrive/My Drive/final3.csv'\n",
        "with open(fileName, mode='w',  newline='') as csvFile:\n",
        "  FileWriter = csv.writer(csvFile, delimiter=',', quotechar='\"', quoting=csv.QUOTE_MINIMAL)\n",
        "  for row in final:\n",
        "    FileWriter.writerow(row)\n"
      ],
      "execution_count": 0,
      "outputs": []
    }
  ]
}